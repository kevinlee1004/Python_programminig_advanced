{
 "cells": [
  {
   "cell_type": "markdown",
   "metadata": {},
   "source": [
    "# Advanced Data Analysis\n",
    "- Replace values\n",
    "- Metadata Analysis\n",
    "- Analysis and Reporting"
   ]
  },
  {
   "cell_type": "code",
   "execution_count": 1,
   "metadata": {},
   "outputs": [],
   "source": [
    "### Import packages\n",
    "from pandas import Series, DataFrame\n",
    "import pandas as pd\n",
    "import numpy as np\n",
    "import xport  ## write sas datasets to local drive"
   ]
  },
  {
   "cell_type": "markdown",
   "metadata": {},
   "source": [
    "## Replacing Values\n",
    "### Replacing with new variables"
   ]
  },
  {
   "cell_type": "code",
   "execution_count": 39,
   "metadata": {},
   "outputs": [],
   "source": [
    "## Set up relacing values \n",
    "code_to_severity = {\n",
    "    1 : 'Mild', 2 : 'Moderate', 3:'Severe'\n",
    "}"
   ]
  },
  {
   "cell_type": "code",
   "execution_count": 40,
   "metadata": {},
   "outputs": [
    {
     "name": "stdout",
     "output_type": "stream",
     "text": [
      "   subjid  severity code\n",
      "0  01-001              1\n",
      "1  01-002              2\n",
      "2  01-003              2\n",
      "3  01-004              3\n"
     ]
    }
   ],
   "source": [
    "## set up raw data frame\n",
    "raw1 = {'subjid': ['01-001', '01-002', '01-003', '01-004'],\n",
    "        'severity code': [1,2,2,3],\n",
    "       }\n",
    "df1 = pd.DataFrame(raw1)\n",
    "print(df1)"
   ]
  },
  {
   "cell_type": "code",
   "execution_count": 41,
   "metadata": {
    "scrolled": true
   },
   "outputs": [
    {
     "name": "stdout",
     "output_type": "stream",
     "text": [
      "   subjid  severity code Severity Desc\n",
      "0  01-001              1          Mild\n",
      "1  01-002              2      Moderate\n",
      "2  01-003              2      Moderate\n",
      "3  01-004              3        Severe\n"
     ]
    }
   ],
   "source": [
    "df1['Severity Desc']= df1['severity code'].map(code_to_severity)\n",
    "print(df1)"
   ]
  },
  {
   "cell_type": "markdown",
   "metadata": {},
   "source": [
    "### Replacing the current variables"
   ]
  },
  {
   "cell_type": "code",
   "execution_count": 45,
   "metadata": {},
   "outputs": [
    {
     "name": "stdout",
     "output_type": "stream",
     "text": [
      "   subjid  severity code\n",
      "0  01-001              1\n",
      "1  01-002              2\n",
      "2  01-003              2\n",
      "3  01-004              3\n"
     ]
    }
   ],
   "source": [
    "## ceate new data frame\n",
    "raw1 = {'subjid': ['01-001', '01-002', '01-003', '01-004'],\n",
    "        'severity code': [1,2,2,3],\n",
    "       }\n",
    "df2 = pd.DataFrame(raw1)\n",
    "print(df2)"
   ]
  },
  {
   "cell_type": "code",
   "execution_count": 47,
   "metadata": {},
   "outputs": [
    {
     "name": "stdout",
     "output_type": "stream",
     "text": [
      "   subjid severity code\n",
      "0  01-001          Mild\n",
      "1  01-002      Moderate\n",
      "2  01-003      Moderate\n",
      "3  01-004        Severe\n"
     ]
    }
   ],
   "source": [
    "## replace the values with the current variables\n",
    "df3 = df2.replace([1,2,3],['Mild','Moderate','Severe'])\n",
    "print(df3)"
   ]
  },
  {
   "cell_type": "markdown",
   "metadata": {},
   "source": [
    "## Metadata of DataFrame"
   ]
  },
  {
   "cell_type": "code",
   "execution_count": 15,
   "metadata": {},
   "outputs": [],
   "source": [
    "import xport  ## write sas datasets to local drive\n",
    "from sas7bdat import SAS7BDAT  ## read SAS datasets from local drive"
   ]
  },
  {
   "cell_type": "code",
   "execution_count": 16,
   "metadata": {},
   "outputs": [],
   "source": [
    "## Read SAS datasets\n",
    "with SAS7BDAT('./data/raw/adtteos.sas7bdat') as file: \n",
    "    df_tteos = file.to_data_frame()"
   ]
  },
  {
   "cell_type": "code",
   "execution_count": 17,
   "metadata": {},
   "outputs": [
    {
     "name": "stdout",
     "output_type": "stream",
     "text": [
      "Information of input data:\n",
      "<class 'pandas.core.frame.DataFrame'>\n",
      "RangeIndex: 300 entries, 0 to 299\n",
      "Data columns (total 17 columns):\n",
      "SUBJID      300 non-null object\n",
      "SITEID      300 non-null object\n",
      "FASFL       300 non-null object\n",
      "SAFFL       300 non-null object\n",
      "TRTP        300 non-null object\n",
      "TRTPN       300 non-null float64\n",
      "PARAM       300 non-null object\n",
      "PARAMCD     300 non-null object\n",
      "PARAMTYP    300 non-null object\n",
      "AVISIT      300 non-null object\n",
      "AVISITN     300 non-null float64\n",
      "AVAL        300 non-null float64\n",
      "STARTDT     300 non-null object\n",
      "ADT         300 non-null object\n",
      "ADTF        300 non-null object\n",
      "CNSR        300 non-null float64\n",
      "EVNTDESC    300 non-null object\n",
      "dtypes: float64(4), object(13)\n",
      "memory usage: 39.9+ KB\n",
      "None\n",
      "\n",
      " Description of numeric columns of input data: \n",
      "             TRTPN  AVISITN        AVAL        CNSR\n",
      "count  300.000000    300.0  300.000000  300.000000\n",
      "mean     1.506667     91.0   45.620000    0.343333\n",
      "std      0.500791      0.0   33.842972    0.475615\n",
      "min      1.000000     91.0    1.000000    0.000000\n",
      "25%      1.000000     91.0   12.000000    0.000000\n",
      "50%      2.000000     91.0   41.500000    0.000000\n",
      "75%      2.000000     91.0   84.000000    1.000000\n",
      "max      2.000000     91.0   96.000000    1.000000\n",
      "\n",
      " List of columns: \n",
      "  Index(['SUBJID', 'SITEID', 'FASFL', 'SAFFL', 'TRTP', 'TRTPN', 'PARAM',\n",
      "       'PARAMCD', 'PARAMTYP', 'AVISIT', 'AVISITN', 'AVAL', 'STARTDT', 'ADT',\n",
      "       'ADTF', 'CNSR', 'EVNTDESC'],\n",
      "      dtype='object')\n",
      "\n",
      " Shape of input data: \n",
      " (300, 17)\n"
     ]
    }
   ],
   "source": [
    "## Metadata of input data\n",
    "print(\"Information of input data:\"); print(df_tteos.info())\n",
    "print(\"\\n Description of numeric columns of input data: \\n\", df_tteos.describe())\n",
    "print(\"\\n List of columns: \\n \", df_tteos.columns)\n",
    "print(\"\\n Shape of input data: \\n\", df_tteos.shape) ## 300 records and 17 columns"
   ]
  },
  {
   "cell_type": "code",
   "execution_count": 18,
   "metadata": {},
   "outputs": [
    {
     "name": "stdout",
     "output_type": "stream",
     "text": [
      "\n",
      "First five data: \n",
      "     SUBJID SITEID FASFL SAFFL        TRTP  TRTPN          PARAM PARAMCD  \\\n",
      "0  310-001    310     Y     Y     Control    1.0  Days to Death   DEATH   \n",
      "1  310-002    310     Y     Y     Control    1.0  Days to Death   DEATH   \n",
      "2  310-003    310     Y     Y  Study Drug    2.0  Days to Death   DEATH   \n",
      "3  310-004    310     Y     Y  Study Drug    2.0  Days to Death   DEATH   \n",
      "4  310-005    310     Y     Y  Study Drug    2.0  Days to Death   DEATH   \n",
      "\n",
      "  PARAMTYP               AVISIT  AVISITN  AVAL     STARTDT         ADT ADTF  \\\n",
      "0  DERIVED  Double-Blind Period     91.0   1.0  2007-11-12  2007-11-12        \n",
      "1  DERIVED  Double-Blind Period     91.0  83.0  2008-01-11  2008-04-02        \n",
      "2  DERIVED  Double-Blind Period     91.0  84.0  2008-02-01  2008-04-24        \n",
      "3  DERIVED  Double-Blind Period     91.0   9.0  2008-02-07  2008-02-15        \n",
      "4  DERIVED  Double-Blind Period     91.0  51.0  2008-02-21  2008-04-11        \n",
      "\n",
      "   CNSR                       EVNTDESC  \n",
      "0   0.0                          DEATH  \n",
      "1   1.0  COMPLETE PERIOD WITHOUT EVENT  \n",
      "2   0.0                          DEATH  \n",
      "3   0.0                          DEATH  \n",
      "4   0.0                          DEATH  \n",
      "\n",
      "Last five data: \n",
      "       SUBJID SITEID FASFL SAFFL        TRTP  TRTPN          PARAM PARAMCD  \\\n",
      "295  342-003    342     Y     Y  Study Drug    2.0  Days to Death   DEATH   \n",
      "296  342-004    342     Y     Y     Control    1.0  Days to Death   DEATH   \n",
      "297  342-005    342     Y     Y  Study Drug    2.0  Days to Death   DEATH   \n",
      "298  343-001    343     Y     Y     Control    1.0  Days to Death   DEATH   \n",
      "299  343-002    343     Y     Y     Control    1.0  Days to Death   DEATH   \n",
      "\n",
      "    PARAMTYP               AVISIT  AVISITN  AVAL     STARTDT         ADT ADTF  \\\n",
      "295  DERIVED  Double-Blind Period     91.0  41.0  2009-06-29  2009-08-08        \n",
      "296  DERIVED  Double-Blind Period     91.0  85.0  2009-07-23  2009-10-15    Y   \n",
      "297  DERIVED  Double-Blind Period     91.0  12.0  2009-09-16  2009-09-27        \n",
      "298  DERIVED  Double-Blind Period     91.0  39.0  2009-11-16  2009-12-24        \n",
      "299  DERIVED  Double-Blind Period     91.0  84.0  2009-12-18  2010-03-11        \n",
      "\n",
      "     CNSR                       EVNTDESC  \n",
      "295   0.0                          DEATH  \n",
      "296   0.0                  ADVERSE EVENT  \n",
      "297   1.0                          OTHER  \n",
      "298   0.0                          DEATH  \n",
      "299   1.0  COMPLETE PERIOD WITHOUT EVENT  \n"
     ]
    }
   ],
   "source": [
    "## first and last 5 records\n",
    "print(\"\\nFirst five data: \\n\", df_tteos.head())\n",
    "print(\"\\nLast five data: \\n\", df_tteos.tail())"
   ]
  },
  {
   "cell_type": "markdown",
   "metadata": {},
   "source": [
    "### Groupby function\n",
    "df_tteos.groupby(['TRTP', 'SITEID'])['SUBJID'].count()) <br>\n",
    "is similar to <br>\n",
    "proc sql; select trtp, siteid, count(subjid) from df_tteos group by trtp, siteid;"
   ]
  },
  {
   "cell_type": "code",
   "execution_count": 19,
   "metadata": {},
   "outputs": [
    {
     "name": "stdout",
     "output_type": "stream",
     "text": [
      "Frequency count of TRTP : \n",
      " Study Drug    152\n",
      "Control       148\n",
      "Name: TRTP, dtype: int64\n",
      "\n",
      "Frequency count of Subjects by TRTP and SITEID: \n",
      " TRTP        SITEID\n",
      "Control     310        5\n",
      "            311       18\n",
      "            313       16\n",
      "            314       14\n",
      "            315       10\n",
      "            316        2\n",
      "            317        2\n",
      "            318        3\n",
      "            319        7\n",
      "            320       15\n",
      "            321        1\n",
      "            323       11\n",
      "            325       12\n",
      "            326       11\n",
      "            327        2\n",
      "            328        9\n",
      "            340        4\n",
      "            341        2\n",
      "            342        2\n",
      "            343        2\n",
      "Study Drug  310        6\n",
      "            311       18\n",
      "            313       17\n",
      "            314       13\n",
      "            315       10\n",
      "            316        3\n",
      "            317        1\n",
      "            318        5\n",
      "            319        8\n",
      "            320       15\n",
      "            321        2\n",
      "            323       14\n",
      "            325       11\n",
      "            326        9\n",
      "            327        1\n",
      "            328        9\n",
      "            340        4\n",
      "            341        3\n",
      "            342        3\n",
      "Name: SUBJID, dtype: int64\n"
     ]
    }
   ],
   "source": [
    "## Frequency of columns\n",
    "print(\"Frequency count of TRTP : \\n\", df_tteos['TRTP'].value_counts())\n",
    "print(\"\\nFrequency count of Subjects by TRTP and SITEID: \\n\", df_tteos.groupby(['TRTP', 'SITEID'])['SUBJID'].count())  "
   ]
  },
  {
   "cell_type": "code",
   "execution_count": 20,
   "metadata": {},
   "outputs": [
    {
     "name": "stdout",
     "output_type": "stream",
     "text": [
      "\n",
      "Average of time to event day per treatment: \n",
      " TRTP\n",
      "Control       45.729730\n",
      "Study Drug    45.513158\n",
      "Name: AVAL, dtype: float64\n",
      "\n",
      "Descriptive statistics per treatment: \n",
      "             count       mean        std  min    25%   50%   75%   max\n",
      "TRTP                                                                 \n",
      "Control     148.0  45.729730  34.319546  1.0  10.75  40.5  84.0  96.0\n",
      "Study Drug  152.0  45.513158  33.485588  1.0  13.00  45.0  83.0  92.0\n"
     ]
    }
   ],
   "source": [
    "## other gropuby function\n",
    "print(\"\\nAverage of time to event day per treatment: \\n\", df_tteos.groupby(['TRTP'])['AVAL'].mean())  \n",
    "print(\"\\nDescriptive statistics per treatment: \\n\", df_tteos.groupby(['TRTP'])['AVAL'].describe()) "
   ]
  },
  {
   "cell_type": "markdown",
   "metadata": {
    "collapsed": true
   },
   "source": [
    "## Statistics Analysis"
   ]
  },
  {
   "cell_type": "code",
   "execution_count": 48,
   "metadata": {},
   "outputs": [],
   "source": [
    "## import python stat packages\n",
    "from scipy import stats"
   ]
  },
  {
   "cell_type": "markdown",
   "metadata": {},
   "source": [
    "### Pair t-test"
   ]
  },
  {
   "cell_type": "code",
   "execution_count": 52,
   "metadata": {},
   "outputs": [
    {
     "name": "stdout",
     "output_type": "stream",
     "text": [
      "0      1.0\n",
      "1     83.0\n",
      "5     62.0\n",
      "7      3.0\n",
      "10    85.0\n",
      "Name: AVAL, dtype: float64\n",
      "2    84.0\n",
      "3     9.0\n",
      "4    51.0\n",
      "6    69.0\n",
      "8     5.0\n",
      "Name: AVAL, dtype: float64\n"
     ]
    }
   ],
   "source": [
    "## Data preparation\n",
    "Control_val = df_tteos[df_tteos['TRTP']=='Control']['AVAL']\n",
    "StudyDrug_val = df_tteos[df_tteos['TRTP']=='Study Drug']['AVAL']\n",
    "print(Control_val.head())\n",
    "print(StudyDrug_val.head())"
   ]
  },
  {
   "cell_type": "code",
   "execution_count": 23,
   "metadata": {},
   "outputs": [
    {
     "data": {
      "text/plain": [
       "Ttest_indResult(statistic=0.0553223058850432, pvalue=0.9559187636178077)"
      ]
     },
     "execution_count": 23,
     "metadata": {},
     "output_type": "execute_result"
    }
   ],
   "source": [
    "## pair t-test\n",
    "stats.ttest_ind(Control_val, StudyDrug_val)"
   ]
  },
  {
   "cell_type": "markdown",
   "metadata": {},
   "source": [
    "### Fisher Exact Test"
   ]
  },
  {
   "cell_type": "code",
   "execution_count": 24,
   "metadata": {},
   "outputs": [],
   "source": [
    "## Read SAS datasets\n",
    "with open('./data/raw/adsl.xpt', 'rb') as f: \n",
    "    _xport_adsl = xport.to_columns(f)\n",
    "    df_adsl = pd.DataFrame(_xport_adsl) \n",
    "    "
   ]
  },
  {
   "cell_type": "code",
   "execution_count": 25,
   "metadata": {},
   "outputs": [
    {
     "data": {
      "text/html": [
       "<div>\n",
       "<style scoped>\n",
       "    .dataframe tbody tr th:only-of-type {\n",
       "        vertical-align: middle;\n",
       "    }\n",
       "\n",
       "    .dataframe tbody tr th {\n",
       "        vertical-align: top;\n",
       "    }\n",
       "\n",
       "    .dataframe thead th {\n",
       "        text-align: right;\n",
       "    }\n",
       "</style>\n",
       "<table border=\"1\" class=\"dataframe\">\n",
       "  <thead>\n",
       "    <tr style=\"text-align: right;\">\n",
       "      <th></th>\n",
       "      <th>USUBJID</th>\n",
       "      <th>STUDYID</th>\n",
       "      <th>DOMAIN</th>\n",
       "      <th>SITEID</th>\n",
       "      <th>SITEGRP</th>\n",
       "      <th>SUBJID</th>\n",
       "      <th>VISIT1DT</th>\n",
       "      <th>RANDDT</th>\n",
       "      <th>TRTSTDT</th>\n",
       "      <th>RFSTDTC</th>\n",
       "      <th>...</th>\n",
       "      <th>EDUCLVL</th>\n",
       "      <th>HEIGHTBL</th>\n",
       "      <th>MMSETOT</th>\n",
       "      <th>WEIGHTBL</th>\n",
       "      <th>SAFETY</th>\n",
       "      <th>ITT</th>\n",
       "      <th>EFFICACY</th>\n",
       "      <th>COMPLT24</th>\n",
       "      <th>COMPLT16</th>\n",
       "      <th>COMPLT8</th>\n",
       "    </tr>\n",
       "  </thead>\n",
       "  <tbody>\n",
       "    <tr>\n",
       "      <th>0</th>\n",
       "      <td>01-701-1015</td>\n",
       "      <td>CDISCPILOT01</td>\n",
       "      <td>ADSL</td>\n",
       "      <td>701</td>\n",
       "      <td>701</td>\n",
       "      <td>1015</td>\n",
       "      <td>19718.0</td>\n",
       "      <td>19725.0</td>\n",
       "      <td>19725.0</td>\n",
       "      <td>2014-01-02</td>\n",
       "      <td>...</td>\n",
       "      <td>16.0</td>\n",
       "      <td>147.3</td>\n",
       "      <td>23.0</td>\n",
       "      <td>54.4</td>\n",
       "      <td>Y</td>\n",
       "      <td>Y</td>\n",
       "      <td>Y</td>\n",
       "      <td>Y</td>\n",
       "      <td>Y</td>\n",
       "      <td>Y</td>\n",
       "    </tr>\n",
       "    <tr>\n",
       "      <th>1</th>\n",
       "      <td>01-701-1023</td>\n",
       "      <td>CDISCPILOT01</td>\n",
       "      <td>ADSL</td>\n",
       "      <td>701</td>\n",
       "      <td>701</td>\n",
       "      <td>1023</td>\n",
       "      <td>19196.0</td>\n",
       "      <td>19210.0</td>\n",
       "      <td>19210.0</td>\n",
       "      <td>2012-08-05</td>\n",
       "      <td>...</td>\n",
       "      <td>14.0</td>\n",
       "      <td>162.6</td>\n",
       "      <td>23.0</td>\n",
       "      <td>80.3</td>\n",
       "      <td>Y</td>\n",
       "      <td>Y</td>\n",
       "      <td>Y</td>\n",
       "      <td>N</td>\n",
       "      <td>N</td>\n",
       "      <td>N</td>\n",
       "    </tr>\n",
       "    <tr>\n",
       "      <th>2</th>\n",
       "      <td>01-701-1028</td>\n",
       "      <td>CDISCPILOT01</td>\n",
       "      <td>ADSL</td>\n",
       "      <td>701</td>\n",
       "      <td>701</td>\n",
       "      <td>1028</td>\n",
       "      <td>19550.0</td>\n",
       "      <td>19558.0</td>\n",
       "      <td>19558.0</td>\n",
       "      <td>2013-07-19</td>\n",
       "      <td>...</td>\n",
       "      <td>16.0</td>\n",
       "      <td>177.8</td>\n",
       "      <td>23.0</td>\n",
       "      <td>99.3</td>\n",
       "      <td>Y</td>\n",
       "      <td>Y</td>\n",
       "      <td>Y</td>\n",
       "      <td>Y</td>\n",
       "      <td>Y</td>\n",
       "      <td>Y</td>\n",
       "    </tr>\n",
       "    <tr>\n",
       "      <th>3</th>\n",
       "      <td>01-701-1033</td>\n",
       "      <td>CDISCPILOT01</td>\n",
       "      <td>ADSL</td>\n",
       "      <td>701</td>\n",
       "      <td>701</td>\n",
       "      <td>1033</td>\n",
       "      <td>19792.0</td>\n",
       "      <td>19800.0</td>\n",
       "      <td>19800.0</td>\n",
       "      <td>2014-03-18</td>\n",
       "      <td>...</td>\n",
       "      <td>12.0</td>\n",
       "      <td>175.3</td>\n",
       "      <td>23.0</td>\n",
       "      <td>88.5</td>\n",
       "      <td>Y</td>\n",
       "      <td>Y</td>\n",
       "      <td>Y</td>\n",
       "      <td>N</td>\n",
       "      <td>N</td>\n",
       "      <td>N</td>\n",
       "    </tr>\n",
       "    <tr>\n",
       "      <th>4</th>\n",
       "      <td>01-701-1034</td>\n",
       "      <td>CDISCPILOT01</td>\n",
       "      <td>ADSL</td>\n",
       "      <td>701</td>\n",
       "      <td>701</td>\n",
       "      <td>1034</td>\n",
       "      <td>19898.0</td>\n",
       "      <td>19905.0</td>\n",
       "      <td>19905.0</td>\n",
       "      <td>2014-07-01</td>\n",
       "      <td>...</td>\n",
       "      <td>9.0</td>\n",
       "      <td>154.9</td>\n",
       "      <td>21.0</td>\n",
       "      <td>62.6</td>\n",
       "      <td>Y</td>\n",
       "      <td>Y</td>\n",
       "      <td>Y</td>\n",
       "      <td>Y</td>\n",
       "      <td>Y</td>\n",
       "      <td>Y</td>\n",
       "    </tr>\n",
       "  </tbody>\n",
       "</table>\n",
       "<p>5 rows × 51 columns</p>\n",
       "</div>"
      ],
      "text/plain": [
       "       USUBJID       STUDYID DOMAIN SITEID SITEGRP SUBJID  VISIT1DT   RANDDT  \\\n",
       "0  01-701-1015  CDISCPILOT01   ADSL    701     701   1015   19718.0  19725.0   \n",
       "1  01-701-1023  CDISCPILOT01   ADSL    701     701   1023   19196.0  19210.0   \n",
       "2  01-701-1028  CDISCPILOT01   ADSL    701     701   1028   19550.0  19558.0   \n",
       "3  01-701-1033  CDISCPILOT01   ADSL    701     701   1033   19792.0  19800.0   \n",
       "4  01-701-1034  CDISCPILOT01   ADSL    701     701   1034   19898.0  19905.0   \n",
       "\n",
       "   TRTSTDT     RFSTDTC  ...  EDUCLVL  HEIGHTBL MMSETOT  WEIGHTBL SAFETY ITT  \\\n",
       "0  19725.0  2014-01-02  ...     16.0     147.3    23.0      54.4      Y   Y   \n",
       "1  19210.0  2012-08-05  ...     14.0     162.6    23.0      80.3      Y   Y   \n",
       "2  19558.0  2013-07-19  ...     16.0     177.8    23.0      99.3      Y   Y   \n",
       "3  19800.0  2014-03-18  ...     12.0     175.3    23.0      88.5      Y   Y   \n",
       "4  19905.0  2014-07-01  ...      9.0     154.9    21.0      62.6      Y   Y   \n",
       "\n",
       "  EFFICACY COMPLT24 COMPLT16  COMPLT8  \n",
       "0        Y        Y        Y        Y  \n",
       "1        Y        N        N        N  \n",
       "2        Y        Y        Y        Y  \n",
       "3        Y        N        N        N  \n",
       "4        Y        Y        Y        Y  \n",
       "\n",
       "[5 rows x 51 columns]"
      ]
     },
     "execution_count": 25,
     "metadata": {},
     "output_type": "execute_result"
    }
   ],
   "source": [
    "df_adsl.head()"
   ]
  },
  {
   "cell_type": "code",
   "execution_count": 26,
   "metadata": {},
   "outputs": [
    {
     "data": {
      "text/plain": [
       "Index(['USUBJID', 'STUDYID', 'DOMAIN', 'SITEID', 'SITEGRP', 'SUBJID',\n",
       "       'VISIT1DT', 'RANDDT', 'TRTSTDT', 'RFSTDTC', 'LSTDOSDT', 'ENDDT',\n",
       "       'RFENDTC', 'VISNUMEN', 'DISCONT', 'DSDECOD', 'DSREASAE', 'DSREASCD',\n",
       "       'DEATH', 'TRTDUR', 'TRTP', 'TRTPCD', 'TRTPN', 'TRTDOSE', 'AVGDD',\n",
       "       'CUMDOSE', 'ARM', 'ARMCD', 'ARMN', 'AGE', 'AGEGRP', 'AGEGRPN', 'AGEU',\n",
       "       'RACE', 'RACEN', 'SEX', 'BMIBL', 'BMIBLGRP', 'DISONSET', 'DURDIS',\n",
       "       'DURDISGR', 'EDUCLVL', 'HEIGHTBL', 'MMSETOT', 'WEIGHTBL', 'SAFETY',\n",
       "       'ITT', 'EFFICACY', 'COMPLT24', 'COMPLT16', 'COMPLT8'],\n",
       "      dtype='object')"
      ]
     },
     "execution_count": 26,
     "metadata": {},
     "output_type": "execute_result"
    }
   ],
   "source": [
    "df_adsl.columns"
   ]
  },
  {
   "cell_type": "code",
   "execution_count": 27,
   "metadata": {},
   "outputs": [
    {
     "name": "stdout",
     "output_type": "stream",
     "text": [
      "Catoegorical results of trtment and discontinuation: \n",
      " TRTP1       DISCONT\n",
      "Placebo                 58\n",
      "            Y           28\n",
      "Xanomeline              52\n",
      "            Y          116\n",
      "Name: SUBJID, dtype: int64\n",
      "<class 'pandas.core.series.Series'>\n"
     ]
    }
   ],
   "source": [
    "## Data Preparation \n",
    "df_adsl['TRTP1'] = df_adsl.TRTP.replace(['Xanomeline High Dose', 'Xanomeline Low Dose'],['Xanomeline','Xanomeline']) ## conversion\n",
    "count = df_adsl.groupby(['TRTP1','DISCONT'])['SUBJID'].count()  ## occurence count of treatment and discontinuation\n",
    "print(\"Catoegorical results of trtment and discontinuation: \\n\", count)\n",
    "print(type(count))"
   ]
  },
  {
   "cell_type": "code",
   "execution_count": 28,
   "metadata": {},
   "outputs": [
    {
     "data": {
      "text/plain": [
       "array([[ 58,  28],\n",
       "       [ 52, 116]], dtype=int64)"
      ]
     },
     "execution_count": 28,
     "metadata": {},
     "output_type": "execute_result"
    }
   ],
   "source": [
    "count.values.reshape(2,2) ## convert values of Series to numpy with 2 by 2 shape"
   ]
  },
  {
   "cell_type": "code",
   "execution_count": 29,
   "metadata": {},
   "outputs": [
    {
     "name": "stdout",
     "output_type": "stream",
     "text": [
      "Odds Ratio : \n",
      " 4.6208791208791204\n",
      "P value: \n",
      " 3.189001514988957e-08\n"
     ]
    }
   ],
   "source": [
    "## Fisher Exact Test\n",
    "oddsratio, pvalue = stats.fisher_exact(count.values.reshape(2,2)) ## 2 by 2 array is an input.  \n",
    "print(\"Odds Ratio : \\n\", oddsratio)\n",
    "print(\"P value: \\n\", pvalue)"
   ]
  },
  {
   "cell_type": "markdown",
   "metadata": {},
   "source": [
    "### Survival analysis - log rank test"
   ]
  },
  {
   "cell_type": "code",
   "execution_count": 30,
   "metadata": {},
   "outputs": [],
   "source": [
    "## import lifeline logrank test function\n",
    "from lifelines.statistics import logrank_test ## need to install lifelines(pip install lifelines)"
   ]
  },
  {
   "cell_type": "code",
   "execution_count": 31,
   "metadata": {},
   "outputs": [
    {
     "data": {
      "text/html": [
       "<div>\n",
       "<style scoped>\n",
       "    .dataframe tbody tr th:only-of-type {\n",
       "        vertical-align: middle;\n",
       "    }\n",
       "\n",
       "    .dataframe tbody tr th {\n",
       "        vertical-align: top;\n",
       "    }\n",
       "\n",
       "    .dataframe thead th {\n",
       "        text-align: right;\n",
       "    }\n",
       "</style>\n",
       "<table border=\"1\" class=\"dataframe\">\n",
       "  <thead>\n",
       "    <tr style=\"text-align: right;\">\n",
       "      <th></th>\n",
       "      <th>SUBJID</th>\n",
       "      <th>SITEID</th>\n",
       "      <th>FASFL</th>\n",
       "      <th>SAFFL</th>\n",
       "      <th>TRTPN</th>\n",
       "      <th>PARAM</th>\n",
       "      <th>PARAMCD</th>\n",
       "      <th>PARAMTYP</th>\n",
       "      <th>AVISIT</th>\n",
       "      <th>AVISITN</th>\n",
       "      <th>AVAL</th>\n",
       "      <th>STARTDT</th>\n",
       "      <th>ADT</th>\n",
       "      <th>ADTF</th>\n",
       "      <th>CNSR</th>\n",
       "      <th>EVNTDESC</th>\n",
       "    </tr>\n",
       "    <tr>\n",
       "      <th>TRTP</th>\n",
       "      <th></th>\n",
       "      <th></th>\n",
       "      <th></th>\n",
       "      <th></th>\n",
       "      <th></th>\n",
       "      <th></th>\n",
       "      <th></th>\n",
       "      <th></th>\n",
       "      <th></th>\n",
       "      <th></th>\n",
       "      <th></th>\n",
       "      <th></th>\n",
       "      <th></th>\n",
       "      <th></th>\n",
       "      <th></th>\n",
       "      <th></th>\n",
       "    </tr>\n",
       "  </thead>\n",
       "  <tbody>\n",
       "    <tr>\n",
       "      <th>Control</th>\n",
       "      <td>148</td>\n",
       "      <td>148</td>\n",
       "      <td>148</td>\n",
       "      <td>148</td>\n",
       "      <td>148</td>\n",
       "      <td>148</td>\n",
       "      <td>148</td>\n",
       "      <td>148</td>\n",
       "      <td>148</td>\n",
       "      <td>148</td>\n",
       "      <td>148</td>\n",
       "      <td>148</td>\n",
       "      <td>148</td>\n",
       "      <td>148</td>\n",
       "      <td>148</td>\n",
       "      <td>148</td>\n",
       "    </tr>\n",
       "    <tr>\n",
       "      <th>Study Drug</th>\n",
       "      <td>152</td>\n",
       "      <td>152</td>\n",
       "      <td>152</td>\n",
       "      <td>152</td>\n",
       "      <td>152</td>\n",
       "      <td>152</td>\n",
       "      <td>152</td>\n",
       "      <td>152</td>\n",
       "      <td>152</td>\n",
       "      <td>152</td>\n",
       "      <td>152</td>\n",
       "      <td>152</td>\n",
       "      <td>152</td>\n",
       "      <td>152</td>\n",
       "      <td>152</td>\n",
       "      <td>152</td>\n",
       "    </tr>\n",
       "  </tbody>\n",
       "</table>\n",
       "</div>"
      ],
      "text/plain": [
       "            SUBJID  SITEID  FASFL  SAFFL  TRTPN  PARAM  PARAMCD  PARAMTYP  \\\n",
       "TRTP                                                                        \n",
       "Control        148     148    148    148    148    148      148       148   \n",
       "Study Drug     152     152    152    152    152    152      152       152   \n",
       "\n",
       "            AVISIT  AVISITN  AVAL  STARTDT  ADT  ADTF  CNSR  EVNTDESC  \n",
       "TRTP                                                                   \n",
       "Control        148      148   148      148  148   148   148       148  \n",
       "Study Drug     152      152   152      152  152   152   152       152  "
      ]
     },
     "execution_count": 31,
     "metadata": {},
     "output_type": "execute_result"
    }
   ],
   "source": [
    "df_tteos.groupby(['TRTP']).count()"
   ]
  },
  {
   "cell_type": "code",
   "execution_count": 32,
   "metadata": {},
   "outputs": [
    {
     "name": "stdout",
     "output_type": "stream",
     "text": [
      "Treatment data occurrence :           AVAL  CNSR\n",
      "TRTP               \n",
      "Control   148   148\n",
      "Treatment data occurrence :              AVAL  CNSR\n",
      "TRTP                  \n",
      "Study Drug   152   152\n"
     ]
    }
   ],
   "source": [
    "tte_control = df_tteos[df_tteos['TRTP']=='Control'][['TRTP','AVAL','CNSR']]\n",
    "print(\"Treatment data occurrence : \", tte_control.groupby(['TRTP']).count())\n",
    "\n",
    "tte_sd = df_tteos[df_tteos['TRTP']=='Study Drug'][['TRTP','AVAL','CNSR']]\n",
    "print(\"Treatment data occurrence : \", tte_sd.groupby(['TRTP']).count())"
   ]
  },
  {
   "cell_type": "code",
   "execution_count": 33,
   "metadata": {
    "scrolled": true
   },
   "outputs": [
    {
     "name": "stdout",
     "output_type": "stream",
     "text": [
      "<lifelines.StatisticalResult>\n",
      "               t_0 = -1\n",
      " null_distribution = chi squared\n",
      "degrees_of_freedom = 1\n",
      "             alpha = 0.95\n",
      "\n",
      "---\n",
      " test_statistic      p  -log2(p)\n",
      "          57.92 <0.005     45.06\n",
      "p-value of log rank test on adtteos :  2.725523833814784e-14\n"
     ]
    }
   ],
   "source": [
    "results = logrank_test(tte_control['AVAL'], tte_sd['AVAL'], event_observed_A=tte_control['CNSR'], event_observed_B=tte_sd['AVAL'], alpha=.95)\n",
    "\n",
    "results.print_summary()\n",
    "print(\"p-value of log rank test on adtteos : \", results.p_value)"
   ]
  },
  {
   "cell_type": "markdown",
   "metadata": {},
   "source": [
    "### Survival analysis - Kaplan Meier Curves"
   ]
  },
  {
   "cell_type": "code",
   "execution_count": 34,
   "metadata": {},
   "outputs": [
    {
     "data": {
      "text/plain": [
       "Text(0.5, 1.0, 'Kaplan Meier curves between Control and Study Drug')"
      ]
     },
     "execution_count": 34,
     "metadata": {},
     "output_type": "execute_result"
    },
    {
     "data": {
      "image/png": "[encoded data removed]",
      "text/plain": [
       "<Figure size 432x288 with 1 Axes>"
      ]
     },
     "metadata": {
      "needs_background": "light"
     },
     "output_type": "display_data"
    }
   ],
   "source": [
    "### Import lifelines and Kaplan Meier Curves \n",
    "from lifelines import KaplanMeierFitter\n",
    "import matplotlib.pyplot as plt ## import plotting library\n",
    "%matplotlib inline \n",
    "\n",
    "kmf = KaplanMeierFitter()\n",
    "\n",
    "ax = plt.subplot(111)\n",
    "\n",
    "kmf.fit(tte_control.AVAL, event_observed=tte_control.CNSR, label=\"Control\")\n",
    "kmf.plot(ax=ax)\n",
    "kmf.fit(tte_sd.AVAL, event_observed=tte_sd.CNSR, label=\"Study Drug\")\n",
    "kmf.plot(ax=ax)\n",
    "\n",
    "plt.title('Kaplan Meier curves between Control and Study Drug')"
   ]
  }
 ],
 "metadata": {
  "anaconda-cloud": {},
  "kernelspec": {
   "display_name": "Python 3",
   "language": "python",
   "name": "python3"
  },
  "language_info": {
   "codemirror_mode": {
    "name": "ipython",
    "version": 3
   },
   "file_extension": ".py",
   "mimetype": "text/x-python",
   "name": "python",
   "nbconvert_exporter": "python",
   "pygments_lexer": "ipython3",
   "version": "3.6.8"
  }
 },
 "nbformat": 4,
 "nbformat_minor": 1
}
